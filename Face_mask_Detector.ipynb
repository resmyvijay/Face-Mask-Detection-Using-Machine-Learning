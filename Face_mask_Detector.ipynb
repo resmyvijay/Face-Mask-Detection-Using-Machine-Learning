{
  "nbformat": 4,
  "nbformat_minor": 0,
  "metadata": {
    "colab": {
      "name": "Face mask Detector",
      "provenance": [],
      "collapsed_sections": [],
      "toc_visible": true,
      "include_colab_link": true
    },
    "kernelspec": {
      "display_name": "Python 3",
      "name": "python3"
    }
  },
  "cells": [
    {
      "cell_type": "markdown",
      "metadata": {
        "id": "view-in-github",
        "colab_type": "text"
      },
      "source": [
        "<a href=\"https://colab.research.google.com/github/resmyvijay/Machine-Learning-Face-Mask-Detection/blob/main/Face_mask_Detector.ipynb\" target=\"_parent\"><img src=\"https://colab.research.google.com/assets/colab-badge.svg\" alt=\"Open In Colab\"/></a>"
      ]
    },
    {
      "cell_type": "code",
      "metadata": {
        "id": "T-iAMbqTItkT"
      },
      "source": [
        "from google.colab import drive\n",
        "drive.mount('/content/gdrive')"
      ],
      "execution_count": null,
      "outputs": []
    },
    {
      "cell_type": "code",
      "metadata": {
        "id": "KepaYGzjAbXR"
      },
      "source": [
        "import pandas as pd\n",
        "df = pd.read_csv(\"/content/train.csv\")\n",
        "df.head()\n"
      ],
      "execution_count": null,
      "outputs": []
    },
    {
      "cell_type": "markdown",
      "metadata": {
        "id": "qIE5w6ybVtvi"
      },
      "source": [
        "# New section"
      ]
    },
    {
      "cell_type": "code",
      "metadata": {
        "id": "1MnboWl4ACQf"
      },
      "source": [
        "import shutil, os\n",
        "source = \"/content/gdrive/MyDrive/Medical Mask/images\"\n",
        "destination = \"/content/gdrive/MyDrive/Medical Mask/No masks\"\n",
        "\n",
        "for index, row in df.iterrows():\n",
        "  if (row['classname']=='face_no_mask' and not os.path.isfile(destination + '/'+ row['name'])):\n",
        "    shutil.move(source + '/'+ row['name'], destination) # add source dir to filename/content/gdrive/MyDrive/Medical Mask/images/0001.jpg"
      ],
      "execution_count": null,
      "outputs": []
    },
    {
      "cell_type": "code",
      "metadata": {
        "id": "g249ih23N5D5"
      },
      "source": [
        "from tensorflow.keras.preprocessing.image import ImageDataGenerator\n",
        "from tensorflow.keras.applications import MobileNetV2\n",
        "from tensorflow.keras.layers import AveragePooling2D\n",
        "from tensorflow.keras.layers import Dropout\n",
        "from tensorflow.keras.layers import Flatten\n",
        "from tensorflow.keras.layers import Dense\n",
        "from tensorflow.keras.layers import Input\n",
        "from tensorflow.keras.models import Model\n",
        "from tensorflow.keras.optimizers import Adam\n",
        "from tensorflow.keras.applications.mobilenet_v2 import preprocess_input\n",
        "from tensorflow.keras.preprocessing.image import img_to_array\n",
        "from tensorflow.keras.preprocessing.image import load_img\n",
        "from tensorflow.keras.utils import to_categorical\n",
        "from sklearn.preprocessing import LabelBinarizer\n",
        "from sklearn.model_selection import train_test_split\n",
        "from imutils import paths\n",
        "import matplotlib.pyplot as plt\n",
        "import numpy as np\n",
        "import os"
      ],
      "execution_count": null,
      "outputs": []
    },
    {
      "cell_type": "code",
      "metadata": {
        "id": "aIcN4on3PDdi"
      },
      "source": [
        "imagePaths = list(paths.list_images('/content/gdrive/MyDrive/Medical Mask'))\n",
        "data = []\n",
        "labels = []\n",
        "# loop over the image paths\n",
        "for imagePath in imagePaths:\n",
        "\t# extract the class label from the filename\n",
        "\tlabel = imagePath.split(os.path.sep)[-2]\n",
        "\t# load the input image (224x224) and preprocess it\n",
        "\timage = load_img(imagePath, target_size=(224, 224))\n",
        "\timage = img_to_array(image)\n",
        "\timage = preprocess_input(image)\n",
        "\t# update the data and labels lists, respectively\n",
        "\tdata.append(image)\n",
        "\tlabels.append(label)\n",
        "# convert the data and labels to NumPy arrays\n",
        "data = np.array(data, dtype=\"float32\")\n",
        "labels = np.array(labels)"
      ],
      "execution_count": null,
      "outputs": []
    },
    {
      "cell_type": "code",
      "metadata": {
        "colab": {
          "base_uri": "https://localhost:8080/"
        },
        "id": "klg9DEfyVPSM",
        "outputId": "9b15a32c-69e9-497d-80a0-be668924dc7c"
      },
      "source": [
        "baseModel = MobileNetV2(weights=\"imagenet\", include_top=False,\n",
        "\tinput_shape=(224, 224, 3))\n",
        "# construct the head of the model that will be placed on top of the\n",
        "# the base model\n",
        "headModel = baseModel.output\n",
        "headModel = AveragePooling2D(pool_size=(7, 7))(headModel)\n",
        "headModel = Flatten(name=\"flatten\")(headModel)\n",
        "headModel = Dense(128, activation=\"relu\")(headModel)\n",
        "headModel = Dropout(0.5)(headModel)\n",
        "headModel = Dense(2, activation=\"softmax\")(headModel)\n",
        "\n",
        "# place the head FC model on top of the base model (this will become\n",
        "# the actual model we will train)\n",
        "model = Model(inputs=baseModel.input, outputs=headModel)\n",
        "# loop over all layers in the base model and freeze them so they will\n",
        "# *not* be updated during the first training process\n",
        "for layer in baseModel.layers:\n",
        "\tlayer.trainable = False"
      ],
      "execution_count": null,
      "outputs": [
        {
          "output_type": "stream",
          "text": [
            "Downloading data from https://storage.googleapis.com/tensorflow/keras-applications/mobilenet_v2/mobilenet_v2_weights_tf_dim_ordering_tf_kernels_1.0_224_no_top.h5\n",
            "9412608/9406464 [==============================] - 0s 0us/step\n"
          ],
          "name": "stdout"
        }
      ]
    },
    {
      "cell_type": "code",
      "metadata": {
        "id": "fzGSk87SVdbL"
      },
      "source": [
        "lb = LabelBinarizer()\n",
        "labels = lb.fit_transform(labels)\n",
        "labels = to_categorical(labels)\n",
        "# partition the data into training and testing splits using 80% of\n",
        "# the data for training and the remaining 20% for testing\n",
        "(trainX, testX, trainY, testY) = train_test_split(data, labels,\n",
        "\ttest_size=0.20, stratify=labels, random_state=42)\n",
        "# construct the training image generator for data augmentation\n",
        "aug = ImageDataGenerator(\n",
        "\trotation_range=20,\n",
        "\tzoom_range=0.15,\n",
        "\twidth_shift_range=0.2,\n",
        "\theight_shift_range=0.2,\n",
        "\tshear_range=0.15,\n",
        "\thorizontal_flip=True,\n",
        "\tfill_mode=\"nearest\")"
      ],
      "execution_count": null,
      "outputs": []
    },
    {
      "cell_type": "code",
      "metadata": {
        "colab": {
          "base_uri": "https://localhost:8080/"
        },
        "id": "sD_d9GyvVeUC",
        "outputId": "21649c02-a876-4ce6-fcfc-f46cac03309b"
      },
      "source": [
        "INIT_LR = 1e-4\n",
        "EPOCHS = 20\n",
        "BS = 32\n",
        "print(\"[INFO] compiling model...\")\n",
        "opt = Adam(lr=INIT_LR, decay=INIT_LR / EPOCHS)\n",
        "model.compile(loss=\"binary_crossentropy\", optimizer=opt,\n",
        "\tmetrics=[\"accuracy\"])\n",
        "# train the head of the network\n",
        "print(\"[INFO] training head...\")\n",
        "H = model.fit(\n",
        "\taug.flow(trainX, trainY, batch_size=BS),\n",
        "\tsteps_per_epoch=len(trainX) // BS,\n",
        "\tvalidation_data=(testX, testY),\n",
        "\tvalidation_steps=len(testX) // BS,\n",
        "\tepochs=EPOCHS)"
      ],
      "execution_count": null,
      "outputs": [
        {
          "output_type": "stream",
          "text": [
            "[INFO] compiling model...\n",
            "[INFO] training head...\n",
            "Epoch 1/20\n",
            "150/150 [==============================] - 268s 2s/step - loss: 0.5309 - accuracy: 0.8041 - val_loss: 0.3465 - val_accuracy: 0.8407\n",
            "Epoch 2/20\n",
            "150/150 [==============================] - 263s 2s/step - loss: 0.3751 - accuracy: 0.8436 - val_loss: 0.3198 - val_accuracy: 0.8515\n",
            "Epoch 3/20\n",
            "150/150 [==============================] - 265s 2s/step - loss: 0.3425 - accuracy: 0.8596 - val_loss: 0.3133 - val_accuracy: 0.8490\n",
            "Epoch 4/20\n",
            "150/150 [==============================] - 263s 2s/step - loss: 0.3378 - accuracy: 0.8533 - val_loss: 0.3038 - val_accuracy: 0.8689\n",
            "Epoch 5/20\n",
            "150/150 [==============================] - 265s 2s/step - loss: 0.3312 - accuracy: 0.8687 - val_loss: 0.3020 - val_accuracy: 0.8780\n",
            "Epoch 6/20\n",
            "150/150 [==============================] - 264s 2s/step - loss: 0.3213 - accuracy: 0.8718 - val_loss: 0.2992 - val_accuracy: 0.8747\n",
            "Epoch 7/20\n",
            "150/150 [==============================] - 264s 2s/step - loss: 0.3106 - accuracy: 0.8701 - val_loss: 0.2972 - val_accuracy: 0.8739\n",
            "Epoch 8/20\n",
            "150/150 [==============================] - 264s 2s/step - loss: 0.3122 - accuracy: 0.8716 - val_loss: 0.2960 - val_accuracy: 0.8739\n",
            "Epoch 9/20\n",
            "150/150 [==============================] - 263s 2s/step - loss: 0.3129 - accuracy: 0.8779 - val_loss: 0.2948 - val_accuracy: 0.8730\n",
            "Epoch 10/20\n",
            "150/150 [==============================] - 263s 2s/step - loss: 0.3005 - accuracy: 0.8809 - val_loss: 0.2949 - val_accuracy: 0.8747\n",
            "Epoch 11/20\n",
            "150/150 [==============================] - 264s 2s/step - loss: 0.2991 - accuracy: 0.8804 - val_loss: 0.2938 - val_accuracy: 0.8780\n",
            "Epoch 12/20\n",
            "150/150 [==============================] - 265s 2s/step - loss: 0.2880 - accuracy: 0.8760 - val_loss: 0.2967 - val_accuracy: 0.8755\n",
            "Epoch 13/20\n",
            "150/150 [==============================] - 265s 2s/step - loss: 0.2888 - accuracy: 0.8787 - val_loss: 0.2933 - val_accuracy: 0.8788\n",
            "Epoch 14/20\n",
            "150/150 [==============================] - 263s 2s/step - loss: 0.2883 - accuracy: 0.8898 - val_loss: 0.2940 - val_accuracy: 0.8788\n",
            "Epoch 15/20\n",
            "150/150 [==============================] - 264s 2s/step - loss: 0.2825 - accuracy: 0.8809 - val_loss: 0.2907 - val_accuracy: 0.8813\n",
            "Epoch 16/20\n",
            "150/150 [==============================] - 263s 2s/step - loss: 0.2938 - accuracy: 0.8837 - val_loss: 0.2923 - val_accuracy: 0.8772\n",
            "Epoch 17/20\n",
            "150/150 [==============================] - 264s 2s/step - loss: 0.2799 - accuracy: 0.8865 - val_loss: 0.2919 - val_accuracy: 0.8822\n",
            "Epoch 18/20\n",
            "150/150 [==============================] - 264s 2s/step - loss: 0.2827 - accuracy: 0.8816 - val_loss: 0.2950 - val_accuracy: 0.8855\n",
            "Epoch 19/20\n",
            "150/150 [==============================] - 264s 2s/step - loss: 0.2807 - accuracy: 0.8867 - val_loss: 0.2907 - val_accuracy: 0.8813\n",
            "Epoch 20/20\n",
            "150/150 [==============================] - 262s 2s/step - loss: 0.2769 - accuracy: 0.8888 - val_loss: 0.2938 - val_accuracy: 0.8846\n"
          ],
          "name": "stdout"
        }
      ]
    },
    {
      "cell_type": "code",
      "metadata": {
        "colab": {
          "base_uri": "https://localhost:8080/",
          "height": 317
        },
        "id": "WOHWMPi0Vn-a",
        "outputId": "04952ad0-47bb-42ba-dcf9-d0cc0c09b28d"
      },
      "source": [
        "N = EPOCHS\n",
        "plt.style.use(\"ggplot\")\n",
        "plt.figure()\n",
        "plt.plot(np.arange(0, N), H.history[\"loss\"], label=\"train_loss\")\n",
        "plt.plot(np.arange(0, N), H.history[\"val_loss\"], label=\"val_loss\")\n",
        "plt.plot(np.arange(0, N), H.history[\"accuracy\"], label=\"train_acc\")\n",
        "plt.plot(np.arange(0, N), H.history[\"val_accuracy\"], label=\"val_acc\")\n",
        "plt.title(\"Training Loss and Accuracy\")\n",
        "plt.xlabel(\"Epoch #\")\n",
        "plt.ylabel(\"Loss/Accuracy\")\n",
        "plt.legend(loc=\"lower left\")"
      ],
      "execution_count": null,
      "outputs": [
        {
          "output_type": "execute_result",
          "data": {
            "text/plain": [
              "<matplotlib.legend.Legend at 0x7f83407ca0b8>"
            ]
          },
          "metadata": {
            "tags": []
          },
          "execution_count": 17
        },
        {
          "output_type": "display_data",
          "data": {
            "image/png": "[encoded data removed]",
            "text/plain": [
              "<Figure size 432x288 with 1 Axes>"
            ]
          },
          "metadata": {
            "tags": []
          }
        }
      ]
    },
    {
      "cell_type": "code",
      "metadata": {
        "id": "r5C6kVVrV2Ia"
      },
      "source": [
        "model.save('mask_recog_ver2.h5')"
      ],
      "execution_count": null,
      "outputs": []
    },
    {
      "cell_type": "code",
      "metadata": {
        "id": "jONe3soAu2wP"
      },
      "source": [
        "import cv2\n",
        "import os\n",
        "from tensorflow.keras.preprocessing.image import img_to_array\n",
        "from tensorflow.keras.models import load_model\n",
        "from tensorflow.keras.applications.mobilenet_v2 import preprocess_input\n",
        "import numpy as np"
      ],
      "execution_count": null,
      "outputs": []
    },
    {
      "cell_type": "code",
      "metadata": {
        "id": "hAyEuNlTweR7"
      },
      "source": [
        "from IPython.display import display, Javascript\n",
        "from google.colab.output import eval_js\n",
        "from base64 import b64decode\n",
        "\n",
        "def take_photo(filename='photo.jpg', quality=0.8):\n",
        "  js = Javascript('''\n",
        "    async function takePhoto(quality) {\n",
        "      const div = document.createElement('div');\n",
        "      const capture = document.createElement('button');\n",
        "      capture.textContent = 'Capture';\n",
        "      div.appendChild(capture);\n",
        "\n",
        "      const video = document.createElement('video');\n",
        "      video.style.display = 'block';\n",
        "      const stream = await navigator.mediaDevices.getUserMedia({video: true});\n",
        "\n",
        "      document.body.appendChild(div);\n",
        "      div.appendChild(video);\n",
        "      video.srcObject = stream;\n",
        "      await video.play();\n",
        "\n",
        "      // Resize the output to fit the video element.\n",
        "      google.colab.output.setIframeHeight(document.documentElement.scrollHeight, true);\n",
        "\n",
        "      // Wait for Capture to be clicked.\n",
        "      await new Promise((resolve) => capture.onclick = resolve);\n",
        "\n",
        "      const canvas = document.createElement('canvas');\n",
        "      canvas.width = video.videoWidth;\n",
        "      canvas.height = video.videoHeight;\n",
        "      canvas.getContext('2d').drawImage(video, 0, 0);\n",
        "      stream.getVideoTracks()[0].stop();\n",
        "      div.remove();\n",
        "      return canvas.toDataURL('image/jpeg', quality);\n",
        "    }\n",
        "    ''')\n",
        "  display(js)\n",
        "  data = eval_js('takePhoto({})'.format(quality))\n",
        "  binary = b64decode(data.split(',')[1])\n",
        "  with open(filename, 'wb') as f:\n",
        "    f.write(binary)\n",
        "  return filename"
      ],
      "execution_count": null,
      "outputs": []
    },
    {
      "cell_type": "code",
      "metadata": {
        "colab": {
          "base_uri": "https://localhost:8080/",
          "height": 515
        },
        "id": "zFEJRz4LweSE",
        "outputId": "e25e007e-53b0-4d04-bc33-6017d44a8fac"
      },
      "source": [
        "from IPython.display import Image\n",
        "try:\n",
        "  filename = take_photo()\n",
        "  print('Saved to {}'.format(filename))\n",
        "  \n",
        "  # Show the image which was just taken.\n",
        "  display(Image(filename))\n",
        "except Exception as err:\n",
        "  # Errors will be thrown if the user does not have a webcam or if they do not\n",
        "  # grant the page permission to access it.\n",
        "  print(str(err))"
      ],
      "execution_count": null,
      "outputs": [
        {
          "output_type": "display_data",
          "data": {
            "application/javascript": [
              "\n",
              "    async function takePhoto(quality) {\n",
              "      const div = document.createElement('div');\n",
              "      const capture = document.createElement('button');\n",
              "      capture.textContent = 'Capture';\n",
              "      div.appendChild(capture);\n",
              "\n",
              "      const video = document.createElement('video');\n",
              "      video.style.display = 'block';\n",
              "      const stream = await navigator.mediaDevices.getUserMedia({video: true});\n",
              "\n",
              "      document.body.appendChild(div);\n",
              "      div.appendChild(video);\n",
              "      video.srcObject = stream;\n",
              "      await video.play();\n",
              "\n",
              "      // Resize the output to fit the video element.\n",
              "      google.colab.output.setIframeHeight(document.documentElement.scrollHeight, true);\n",
              "\n",
              "      // Wait for Capture to be clicked.\n",
              "      await new Promise((resolve) => capture.onclick = resolve);\n",
              "\n",
              "      const canvas = document.createElement('canvas');\n",
              "      canvas.width = video.videoWidth;\n",
              "      canvas.height = video.videoHeight;\n",
              "      canvas.getContext('2d').drawImage(video, 0, 0);\n",
              "      stream.getVideoTracks()[0].stop();\n",
              "      div.remove();\n",
              "      return canvas.toDataURL('image/jpeg', quality);\n",
              "    }\n",
              "    "
            ],
            "text/plain": [
              "<IPython.core.display.Javascript object>"
            ]
          },
          "metadata": {
            "tags": []
          }
        },
        {
          "output_type": "stream",
          "text": [
            "Saved to photo.jpg\n"
          ],
          "name": "stdout"
        },
        {
          "output_type": "display_data",
          "data": {
            "image/jpeg": "[encoded data removed]",
            "text/plain": [
              "<IPython.core.display.Image object>"
            ]
          },
          "metadata": {
            "tags": []
          }
        }
      ]
    },
    {
      "cell_type": "code",
      "metadata": {
        "id": "zBIJ9hCBvw5x"
      },
      "source": [
        "from google.colab.patches import cv2_imshow\n",
        "\n",
        "cascPath = \"/content/haarcascade_frontalface_alt2.xml\"\n",
        "faceCascade = cv2.CascadeClassifier(\"/content/haarcascade_frontalface_alt2.xml\")\n",
        "model = load_model(\"/content/mask_recog_ver2.h5\")\n",
        "\n",
        "src = cv2.imread(\"/content/photo.jpg\")\n",
        "\n",
        "gray = cv2.cvtColor(src, cv2.COLOR_BGR2GRAY)\n",
        "cv2_imshow(gray)\n"
      ],
      "execution_count": null,
      "outputs": []
    },
    {
      "cell_type": "code",
      "metadata": {
        "id": "DI6g_kfdw4nK"
      },
      "source": [
        "faces_list=[]\n",
        "preds=[]"
      ],
      "execution_count": null,
      "outputs": []
    },
    {
      "cell_type": "code",
      "metadata": {
        "id": "EtzVc4z1MRay"
      },
      "source": [
        "import cv2\n",
        "import sys\n",
        "# Get user supplied values\n",
        "\n",
        "cascPath = \"./haarcascade_frontalface_default.xml\"\n",
        "# Create the haar cascade\n",
        "faceCascade = cv2.CascadeClassifier(cascPath)\n",
        "# Read the image\n",
        "image = cv2.imread(\"/content/photo.jpg\")\n",
        "#cv2.imshow(\"Faces found\", image)\n",
        "gray = cv2.cvtColor(image, cv2.COLOR_BGR2GRAY)\n",
        "# Detect faces in the image\n",
        "faces = faceCascade.detectMultiScale(gray,1.1, 5)\n",
        "print (\"Found {0} faces!\".format(len(faces)))\n",
        "# Draw a rectangle around the faces\n",
        "for (x, y, w, h) in faces:\n",
        "  cv2.rectangle(image, (x, y), (x+w, y+h), (0, 255, 0), 2)\n",
        "  cv2.imshow(\"Faces found\", image)\n",
        "  cv2.waitKey(0)"
      ],
      "execution_count": null,
      "outputs": []
    },
    {
      "cell_type": "code",
      "metadata": {
        "id": "iBvee3kWw7kz"
      },
      "source": [
        "faces = faceCascade.detectMultiScale(gray,\n",
        "                                         scaleFactor=1.1,\n",
        "                                         minNeighbors=5,\n",
        "                                         minSize=(60, 60),\n",
        "                                         flags=cv2.CASCADE_SCALE_IMAGE)\n"
      ],
      "execution_count": null,
      "outputs": []
    },
    {
      "cell_type": "code",
      "metadata": {
        "id": "wkmLeHR3LIDU"
      },
      "source": [
        "for (x, y, w, h) in faces:\n",
        "        print(\"I am here\")\n",
        "        face_frame = frame[y:y+h,x:x+w]\n",
        "        face_frame = cv2.cvtColor(face_frame, cv2.COLOR_BGR2RGB)\n",
        "        face_frame = cv2.resize(face_frame, (224, 224))\n",
        "        face_frame = img_to_array(face_frame)\n",
        "        face_frame = np.expand_dims(face_frame, axis=0)\n",
        "        face_frame =  preprocess_input(face_frame)\n",
        "        faces_list.append(face_frame)\n",
        "        if len(faces_list)>0:\n",
        "            preds = model.predict(faces_list)\n",
        "        for pred in preds:\n",
        "        #mask contain probabily of wearing a mask and vice versa\n",
        "            (mask, withoutMask) = pred "
      ],
      "execution_count": null,
      "outputs": []
    },
    {
      "cell_type": "code",
      "metadata": {
        "id": "WYO3NZ43w-xz"
      },
      "source": [
        "label = \"Mask\" if mask > withoutMask else \"No Mask\"\n",
        "\n",
        "print(label)\n"
      ],
      "execution_count": null,
      "outputs": []
    }
  ]
}