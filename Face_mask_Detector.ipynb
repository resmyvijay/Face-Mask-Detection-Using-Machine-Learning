{
  "nbformat": 4,
  "nbformat_minor": 0,
  "metadata": {
    "colab": {
      "name": "Face mask Detector",
      "provenance": [],
      "collapsed_sections": [],
      "authorship_tag": "ABX9TyOvdK4PRFF8YNTi50KYNeoN",
      "include_colab_link": true
    },
    "kernelspec": {
      "display_name": "Python 3",
      "name": "python3"
    }
  },
  "cells": [
    {
      "cell_type": "markdown",
      "metadata": {
        "id": "view-in-github",
        "colab_type": "text"
      },
      "source": [
        "<a href=\"https://colab.research.google.com/github/resmyvijay/Machine-Learning-Face-Mask-Detection/blob/main/Face_mask_Detector.ipynb\" target=\"_parent\"><img src=\"https://colab.research.google.com/assets/colab-badge.svg\" alt=\"Open In Colab\"/></a>"
      ]
    },
    {
      "cell_type": "code",
      "metadata": {
        "colab": {
          "base_uri": "https://localhost:8080/"
        },
        "id": "T-iAMbqTItkT",
        "outputId": "2c2f686d-4ea0-4140-ce86-600edb184d49"
      },
      "source": [
        "from google.colab import drive\r\n",
        "drive.mount('/content/gdrive')"
      ],
      "execution_count": 24,
      "outputs": [
        {
          "output_type": "stream",
          "text": [
            "Drive already mounted at /content/gdrive; to attempt to forcibly remount, call drive.mount(\"/content/gdrive\", force_remount=True).\n"
          ],
          "name": "stdout"
        }
      ]
    },
    {
      "cell_type": "code",
      "metadata": {
        "colab": {
          "base_uri": "https://localhost:8080/",
          "height": 202
        },
        "id": "KepaYGzjAbXR",
        "outputId": "6209398f-2e5f-425a-e5e7-5c2151ae182a"
      },
      "source": [
        "import pandas as pd\r\n",
        "df = pd.read_csv(\"/content/train.csv\")\r\n",
        "df.head()\r\n"
      ],
      "execution_count": 26,
      "outputs": [
        {
          "output_type": "execute_result",
          "data": {
            "text/html": [
              "<div>\n",
              "<style scoped>\n",
              "    .dataframe tbody tr th:only-of-type {\n",
              "        vertical-align: middle;\n",
              "    }\n",
              "\n",
              "    .dataframe tbody tr th {\n",
              "        vertical-align: top;\n",
              "    }\n",
              "\n",
              "    .dataframe thead th {\n",
              "        text-align: right;\n",
              "    }\n",
              "</style>\n",
              "<table border=\"1\" class=\"dataframe\">\n",
              "  <thead>\n",
              "    <tr style=\"text-align: right;\">\n",
              "      <th></th>\n",
              "      <th>name</th>\n",
              "      <th>x1</th>\n",
              "      <th>x2</th>\n",
              "      <th>y1</th>\n",
              "      <th>y2</th>\n",
              "      <th>classname</th>\n",
              "    </tr>\n",
              "  </thead>\n",
              "  <tbody>\n",
              "    <tr>\n",
              "      <th>0</th>\n",
              "      <td>2756.png</td>\n",
              "      <td>69</td>\n",
              "      <td>126</td>\n",
              "      <td>294</td>\n",
              "      <td>392</td>\n",
              "      <td>face_with_mask</td>\n",
              "    </tr>\n",
              "    <tr>\n",
              "      <th>1</th>\n",
              "      <td>2756.png</td>\n",
              "      <td>505</td>\n",
              "      <td>10</td>\n",
              "      <td>723</td>\n",
              "      <td>283</td>\n",
              "      <td>face_with_mask</td>\n",
              "    </tr>\n",
              "    <tr>\n",
              "      <th>2</th>\n",
              "      <td>2756.png</td>\n",
              "      <td>75</td>\n",
              "      <td>252</td>\n",
              "      <td>264</td>\n",
              "      <td>390</td>\n",
              "      <td>mask_colorful</td>\n",
              "    </tr>\n",
              "    <tr>\n",
              "      <th>3</th>\n",
              "      <td>2756.png</td>\n",
              "      <td>521</td>\n",
              "      <td>136</td>\n",
              "      <td>711</td>\n",
              "      <td>277</td>\n",
              "      <td>mask_colorful</td>\n",
              "    </tr>\n",
              "    <tr>\n",
              "      <th>4</th>\n",
              "      <td>6098.jpg</td>\n",
              "      <td>360</td>\n",
              "      <td>85</td>\n",
              "      <td>728</td>\n",
              "      <td>653</td>\n",
              "      <td>face_no_mask</td>\n",
              "    </tr>\n",
              "  </tbody>\n",
              "</table>\n",
              "</div>"
            ],
            "text/plain": [
              "       name   x1   x2   y1   y2       classname\n",
              "0  2756.png   69  126  294  392  face_with_mask\n",
              "1  2756.png  505   10  723  283  face_with_mask\n",
              "2  2756.png   75  252  264  390   mask_colorful\n",
              "3  2756.png  521  136  711  277   mask_colorful\n",
              "4  6098.jpg  360   85  728  653    face_no_mask"
            ]
          },
          "metadata": {
            "tags": []
          },
          "execution_count": 26
        }
      ]
    },
    {
      "cell_type": "code",
      "metadata": {
        "id": "1MnboWl4ACQf"
      },
      "source": [
        "import shutil, os\r\n",
        "source = \"/content/gdrive/MyDrive/Medical Mask/images\"\r\n",
        "destination = \"/content/gdrive/MyDrive/Medical Mask/No masks\"\r\n",
        "\r\n",
        "for index, row in df.iterrows():\r\n",
        "  if (row['classname']=='face_no_mask' and not os.path.isfile(destination + '/'+ row['name'])):\r\n",
        "    shutil.move(source + '/'+ row['name'], destination) # add source dir to filename/content/gdrive/MyDrive/Medical Mask/images/0001.jpg"
      ],
      "execution_count": null,
      "outputs": []
    },
    {
      "cell_type": "code",
      "metadata": {
        "id": "g249ih23N5D5"
      },
      "source": [
        "from tensorflow.keras.preprocessing.image import ImageDataGenerator\r\n",
        "from tensorflow.keras.applications import MobileNetV2\r\n",
        "from tensorflow.keras.layers import AveragePooling2D\r\n",
        "from tensorflow.keras.layers import Dropout\r\n",
        "from tensorflow.keras.layers import Flatten\r\n",
        "from tensorflow.keras.layers import Dense\r\n",
        "from tensorflow.keras.layers import Input\r\n",
        "from tensorflow.keras.models import Model\r\n",
        "from tensorflow.keras.optimizers import Adam\r\n",
        "from tensorflow.keras.applications.mobilenet_v2 import preprocess_input\r\n",
        "from tensorflow.keras.preprocessing.image import img_to_array\r\n",
        "from tensorflow.keras.preprocessing.image import load_img\r\n",
        "from tensorflow.keras.utils import to_categorical\r\n",
        "from sklearn.preprocessing import LabelBinarizer\r\n",
        "from sklearn.model_selection import train_test_split\r\n",
        "from imutils import paths\r\n",
        "import matplotlib.pyplot as plt\r\n",
        "import numpy as np\r\n",
        "import os"
      ],
      "execution_count": 28,
      "outputs": []
    },
    {
      "cell_type": "code",
      "metadata": {
        "id": "aIcN4on3PDdi"
      },
      "source": [
        "imagePaths = list(paths.list_images('/content/gdrive/MyDrive/Medical Mask'))\r\n",
        "data = []\r\n",
        "labels = []\r\n",
        "# loop over the image paths\r\n",
        "for imagePath in imagePaths:\r\n",
        "\t# extract the class label from the filename\r\n",
        "\tlabel = imagePath.split(os.path.sep)[-2]\r\n",
        "\t# load the input image (224x224) and preprocess it\r\n",
        "\timage = load_img(imagePath, target_size=(224, 224))\r\n",
        "\timage = img_to_array(image)\r\n",
        "\timage = preprocess_input(image)\r\n",
        "\t# update the data and labels lists, respectively\r\n",
        "\tdata.append(image)\r\n",
        "\tlabels.append(label)\r\n",
        "# convert the data and labels to NumPy arrays\r\n",
        "data = np.array(data, dtype=\"float32\")\r\n",
        "labels = np.array(labels)"
      ],
      "execution_count": 29,
      "outputs": []
    },
    {
      "cell_type": "code",
      "metadata": {
        "colab": {
          "base_uri": "https://localhost:8080/"
        },
        "id": "klg9DEfyVPSM",
        "outputId": "7a8c48bc-dd66-478d-fe8d-618444e699b6"
      },
      "source": [
        "baseModel = MobileNetV2(weights=\"imagenet\", include_top=False,\r\n",
        "\tinput_shape=(224, 224, 3))\r\n",
        "# construct the head of the model that will be placed on top of the\r\n",
        "# the base model\r\n",
        "headModel = baseModel.output\r\n",
        "headModel = AveragePooling2D(pool_size=(7, 7))(headModel)\r\n",
        "headModel = Flatten(name=\"flatten\")(headModel)\r\n",
        "headModel = Dense(128, activation=\"relu\")(headModel)\r\n",
        "headModel = Dropout(0.5)(headModel)\r\n",
        "headModel = Dense(2, activation=\"softmax\")(headModel)\r\n",
        "\r\n",
        "# place the head FC model on top of the base model (this will become\r\n",
        "# the actual model we will train)\r\n",
        "model = Model(inputs=baseModel.input, outputs=headModel)\r\n",
        "# loop over all layers in the base model and freeze them so they will\r\n",
        "# *not* be updated during the first training process\r\n",
        "for layer in baseModel.layers:\r\n",
        "\tlayer.trainable = False"
      ],
      "execution_count": 30,
      "outputs": [
        {
          "output_type": "stream",
          "text": [
            "Downloading data from https://storage.googleapis.com/tensorflow/keras-applications/mobilenet_v2/mobilenet_v2_weights_tf_dim_ordering_tf_kernels_1.0_224_no_top.h5\n",
            "9412608/9406464 [==============================] - 0s 0us/step\n"
          ],
          "name": "stdout"
        }
      ]
    },
    {
      "cell_type": "code",
      "metadata": {
        "id": "fzGSk87SVdbL"
      },
      "source": [
        "lb = LabelBinarizer()\r\n",
        "labels = lb.fit_transform(labels)\r\n",
        "labels = to_categorical(labels)\r\n",
        "# partition the data into training and testing splits using 80% of\r\n",
        "# the data for training and the remaining 20% for testing\r\n",
        "(trainX, testX, trainY, testY) = train_test_split(data, labels,\r\n",
        "\ttest_size=0.20, stratify=labels, random_state=42)\r\n",
        "# construct the training image generator for data augmentation\r\n",
        "aug = ImageDataGenerator(\r\n",
        "\trotation_range=20,\r\n",
        "\tzoom_range=0.15,\r\n",
        "\twidth_shift_range=0.2,\r\n",
        "\theight_shift_range=0.2,\r\n",
        "\tshear_range=0.15,\r\n",
        "\thorizontal_flip=True,\r\n",
        "\tfill_mode=\"nearest\")"
      ],
      "execution_count": 31,
      "outputs": []
    },
    {
      "cell_type": "code",
      "metadata": {
        "colab": {
          "base_uri": "https://localhost:8080/"
        },
        "id": "sD_d9GyvVeUC",
        "outputId": "4bedf714-b7d0-4e29-8ade-77232b5d1edd"
      },
      "source": [
        "INIT_LR = 1e-4\r\n",
        "EPOCHS = 20\r\n",
        "BS = 32\r\n",
        "print(\"[INFO] compiling model...\")\r\n",
        "opt = Adam(lr=INIT_LR, decay=INIT_LR / EPOCHS)\r\n",
        "model.compile(loss=\"binary_crossentropy\", optimizer=opt,\r\n",
        "\tmetrics=[\"accuracy\"])\r\n",
        "# train the head of the network\r\n",
        "print(\"[INFO] training head...\")\r\n",
        "H = model.fit(\r\n",
        "\taug.flow(trainX, trainY, batch_size=BS),\r\n",
        "\tsteps_per_epoch=len(trainX) // BS,\r\n",
        "\tvalidation_data=(testX, testY),\r\n",
        "\tvalidation_steps=len(testX) // BS,\r\n",
        "\tepochs=EPOCHS)"
      ],
      "execution_count": null,
      "outputs": [
        {
          "output_type": "stream",
          "text": [
            "[INFO] compiling model...\n",
            "[INFO] training head...\n",
            "Epoch 1/20\n",
            "150/150 [==============================] - 255s 2s/step - loss: 0.6005 - accuracy: 0.7455 - val_loss: 0.3664 - val_accuracy: 0.8473\n",
            "Epoch 2/20\n",
            "150/150 [==============================] - 256s 2s/step - loss: 0.3827 - accuracy: 0.8499 - val_loss: 0.3348 - val_accuracy: 0.8539\n",
            "Epoch 3/20\n",
            "150/150 [==============================] - 253s 2s/step - loss: 0.3478 - accuracy: 0.8547 - val_loss: 0.3227 - val_accuracy: 0.8589\n",
            "Epoch 4/20\n",
            "150/150 [==============================] - 252s 2s/step - loss: 0.3525 - accuracy: 0.8581 - val_loss: 0.3155 - val_accuracy: 0.8722\n",
            "Epoch 5/20\n",
            "140/150 [===========================>..] - ETA: 14s - loss: 0.3396 - accuracy: 0.8657"
          ],
          "name": "stdout"
        }
      ]
    },
    {
      "cell_type": "code",
      "metadata": {
        "colab": {
          "base_uri": "https://localhost:8080/",
          "height": 317
        },
        "id": "WOHWMPi0Vn-a",
        "outputId": "3b93c170-5a4a-4ed9-f3aa-bae3cd45119b"
      },
      "source": [
        "N = EPOCHS\r\n",
        "plt.style.use(\"ggplot\")\r\n",
        "plt.figure()\r\n",
        "plt.plot(np.arange(0, N), H.history[\"loss\"], label=\"train_loss\")\r\n",
        "plt.plot(np.arange(0, N), H.history[\"val_loss\"], label=\"val_loss\")\r\n",
        "plt.plot(np.arange(0, N), H.history[\"accuracy\"], label=\"train_acc\")\r\n",
        "plt.plot(np.arange(0, N), H.history[\"val_accuracy\"], label=\"val_acc\")\r\n",
        "plt.title(\"Training Loss and Accuracy\")\r\n",
        "plt.xlabel(\"Epoch #\")\r\n",
        "plt.ylabel(\"Loss/Accuracy\")\r\n",
        "plt.legend(loc=\"lower left\")"
      ],
      "execution_count": null,
      "outputs": [
        {
          "output_type": "execute_result",
          "data": {
            "text/plain": [
              "<matplotlib.legend.Legend at 0x7f29e27fb1d0>"
            ]
          },
          "metadata": {
            "tags": []
          },
          "execution_count": 7
        },
        {
          "output_type": "display_data",
          "data": {
            "image/png": "[encoded data removed]",
            "text/plain": [
              "<Figure size 432x288 with 1 Axes>"
            ]
          },
          "metadata": {
            "tags": []
          }
        }
      ]
    },
    {
      "cell_type": "code",
      "metadata": {
        "id": "r5C6kVVrV2Ia"
      },
      "source": [
        "model.save('mask_recog_ver2.h5')"
      ],
      "execution_count": null,
      "outputs": []
    }
  ]
}